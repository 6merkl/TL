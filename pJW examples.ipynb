{
 "cells": [
  {
   "cell_type": "code",
   "execution_count": 1,
   "metadata": {},
   "outputs": [],
   "source": [
    "# The clean way to handle imports is building a module and installing it\n",
    "# e.g. via pip into a virtual environment or something along these lines\n",
    "# however, chaning the value of the path variable allows us to skip that\n",
    "# and keep import relative (and the usage thereby simpler)\n",
    "# even though it's a bit dirty\n",
    "import sys\n",
    "sys.path.append('..')\n",
    "\n",
    "from TL.p_jones_wenzl import numberToBase, baseToNumber\n",
    "from TL.p_jones_wenzl import allDownAdmissibleSets,minimalDownAdmissibleStretches,vbracket\n",
    "from TL.p_jones_wenzl import ancestors\n",
    "from TL.p_jones_wenzl import rationalpJW\n",
    "from TL.tl import TL\n",
    "from TL.jones_wenzl import JW"
   ]
  },
  {
   "cell_type": "markdown",
   "metadata": {},
   "source": [
    "# Example 2.7"
   ]
  },
  {
   "cell_type": "code",
   "execution_count": 2,
   "metadata": {},
   "outputs": [
    {
     "name": "stdout",
     "output_type": "stream",
     "text": [
      "p = 3 and v = 919 = [1, 0, 2, 1, 0, 0, 1]_3\n",
      "\n",
      "\n",
      "Minimal down-admissible stretches corresponding to the fundamental support:\n",
      "\n",
      "S = [5, 4], v[S] = 595 = [1, 0, -2, 1, 0, 0, 1]_3\n",
      "S = [3], v[S] = 865 = [1, 0, 2, -1, 0, 0, 1]_3\n",
      "S = [2, 1, 0], v[S] = 917 = [1, 0, 2, 1, 0, 0, -1]_3\n",
      "\n",
      "\n",
      "All down-admissible sets corresponding to the support of v:\n",
      "\n",
      "S = [], v[S] = 919 = [1, 0, 2, 1, 0, 0, 1]_3\n",
      "S = [5, 4], v[S] = 595 = [1, 0, -2, 1, 0, 0, 1]_3\n",
      "S = [3], v[S] = 865 = [1, 0, 2, -1, 0, 0, 1]_3\n",
      "S = [5, 4, 3], v[S] = 541 = [1, 0, -2, -1, 0, 0, 1]_3\n",
      "S = [2, 1, 0], v[S] = 917 = [1, 0, 2, 1, 0, 0, -1]_3\n",
      "S = [5, 4, 2, 1, 0], v[S] = 593 = [1, 0, -2, 1, 0, 0, -1]_3\n",
      "S = [3, 2, 1, 0], v[S] = 863 = [1, 0, 2, -1, 0, 0, -1]_3\n",
      "S = [5, 4, 3, 2, 1, 0], v[S] = 539 = [1, 0, -2, -1, 0, 0, -1]_3\n"
     ]
    }
   ],
   "source": [
    "v = 919\n",
    "p = 3\n",
    "\n",
    "vp = numberToBase(v,p)\n",
    "print(f\"p = {p} and v = {v} = {vp}_{p}\")\n",
    "print(\"\\n\")\n",
    "print(\"Minimal down-admissible stretches corresponding to the fundamental support:\")\n",
    "print()\n",
    "\n",
    "for S in minimalDownAdmissibleStretches(v, p):\n",
    "    flipped_signs = [vp[-i-1] if i not in S else -vp[-i-1] for i in reversed(range(len(vp)))]\n",
    "    \n",
    "    output = f\"S = {S}, v[S] = {vbracket(v,S,p)} = {flipped_signs}_{p}\"\n",
    "    print(output)\n",
    "\n",
    "print(\"\\n\")\n",
    "print(\"All down-admissible sets corresponding to the support of v:\")\n",
    "print()\n",
    "\n",
    "for S in allDownAdmissibleSets(v,p):\n",
    "    flipped_signs = [vp[-i-1] if i not in S else -vp[-i-1] for i in reversed(range(len(vp)))]\n",
    "    output = f\"S = {S}, v[S] = {vbracket(v,S,p)} = {flipped_signs}_{p}\"\n",
    "    print(output)"
   ]
  },
  {
   "cell_type": "markdown",
   "metadata": {},
   "source": [
    "# Example 3.4\n",
    "\n",
    "We can compare the pth p-Jones-Wenzl projectors with the usual pth Jones-Wenzl projector\n",
    "\n",
    "We can see that the Jones-Wenzl projectors are up-down and left-right symmetric"
   ]
  },
  {
   "cell_type": "code",
   "execution_count": 3,
   "metadata": {},
   "outputs": [
    {
     "name": "stdout",
     "output_type": "stream",
     "text": [
      "2st Jones-Wenzl projector\n",
      "\n",
      "\n",
      "    0 1 \n",
      "    | |\n",
      "1 * | |\n",
      "    | |\n",
      "    3 2 \n",
      "\n",
      " +\n",
      "\n",
      "      0 1 \n",
      "      \\_/\n",
      "1/2 *  _ \n",
      "      / \\\n",
      "      3 2 \n",
      "\n",
      "\n"
     ]
    }
   ],
   "source": [
    "p = 2\n",
    "counting_terms = {1:\"st\", 2: \"nd\", 3:\"rd\"}\n",
    "ending = counting_terms[p-1] if p-1 in counting_terms else \"th\"\n",
    "print(f\"{p}{ending} Jones-Wenzl projector\")\n",
    "print(JW.get(p))"
   ]
  },
  {
   "cell_type": "markdown",
   "metadata": {},
   "source": [
    "The p Jones-Wenzl are still up-down but for v > 3 not left-right symmetric"
   ]
  },
  {
   "cell_type": "code",
   "execution_count": 4,
   "metadata": {},
   "outputs": [
    {
     "name": "stdout",
     "output_type": "stream",
     "text": [
      "2st rational p-Jones-Wenzl projector\n",
      "\n",
      "\n",
      "    0 1 \n",
      "    | |\n",
      "1 * | |\n",
      "    | |\n",
      "    3 2 \n",
      "\n",
      "\n"
     ]
    }
   ],
   "source": [
    "print(f\"{p}{ending} rational p-Jones-Wenzl projector\")\n",
    "# the first argument of rationalpJW is v and not v-1\n",
    "print(rationalpJW(p+1,p))"
   ]
  },
  {
   "cell_type": "markdown",
   "metadata": {},
   "source": [
    "In fact, the pJW on p strands is equal to the ordinary on JW on p-1 strands with one strand added on the left"
   ]
  },
  {
   "cell_type": "code",
   "execution_count": 5,
   "metadata": {},
   "outputs": [
    {
     "data": {
      "text/plain": [
       "True"
      ]
     },
     "execution_count": 5,
     "metadata": {},
     "output_type": "execute_result"
    }
   ],
   "source": [
    "rationalpJW(p+1,p) == (TL.id(1) & JW.get(p-1))"
   ]
  },
  {
   "cell_type": "markdown",
   "metadata": {},
   "source": [
    "# Example 3.8"
   ]
  },
  {
   "cell_type": "code",
   "execution_count": 6,
   "metadata": {},
   "outputs": [
    {
     "name": "stdout",
     "output_type": "stream",
     "text": [
      "A flush right smaller pJW is absorbed:\n",
      "\n"
     ]
    },
    {
     "data": {
      "text/plain": [
       "True"
      ]
     },
     "execution_count": 6,
     "metadata": {},
     "output_type": "execute_result"
    }
   ],
   "source": [
    "p = 3\n",
    "\n",
    "threeJW2 = rationalpJW(3,3)\n",
    "threeJW3 = rationalpJW(4,3)\n",
    "\n",
    "print(\"A flush right smaller pJW is absorbed:\\n\")\n",
    "\n",
    "( TL.id(1) & threeJW2) * threeJW3 == threeJW3"
   ]
  },
  {
   "cell_type": "code",
   "execution_count": 7,
   "metadata": {},
   "outputs": [
    {
     "name": "stdout",
     "output_type": "stream",
     "text": [
      "But not if it in another position:\n",
      "\n"
     ]
    },
    {
     "data": {
      "text/plain": [
       "False"
      ]
     },
     "execution_count": 7,
     "metadata": {},
     "output_type": "execute_result"
    }
   ],
   "source": [
    "print(\"But not if it in another position:\\n\")\n",
    "\n",
    "( threeJW2 & TL.id(1)) * threeJW3 == threeJW3"
   ]
  },
  {
   "cell_type": "markdown",
   "metadata": {},
   "source": [
    "# Example 3.10\n",
    "\n",
    "Unfortunately, the example in the Write-Up is too big to compute here.\n",
    "So we pick p = 2 and v = 7. For the mother of v 6 we get the following relation"
   ]
  },
  {
   "cell_type": "code",
   "execution_count": 8,
   "metadata": {},
   "outputs": [],
   "source": [
    "unshortened = (TL.nestedCaps(1) & TL.id(4) ) * rationalpJW(7,2)\n",
    "shortened = (TL.nestedCaps(1) & TL.id(4) ) * ( TL.id(1) & rationalpJW(6,2)) "
   ]
  },
  {
   "cell_type": "code",
   "execution_count": 9,
   "metadata": {},
   "outputs": [
    {
     "data": {
      "text/plain": [
       "True"
      ]
     },
     "execution_count": 9,
     "metadata": {},
     "output_type": "execute_result"
    }
   ],
   "source": [
    "unshortened == shortened"
   ]
  },
  {
   "cell_type": "markdown",
   "metadata": {},
   "source": [
    "The grandmother of v 4 yields the relation"
   ]
  },
  {
   "cell_type": "code",
   "execution_count": 10,
   "metadata": {},
   "outputs": [],
   "source": [
    "unshortened = TL.nestedCaps(3) * rationalpJW(7,2)\n",
    "shortened = TL.nestedCaps(3) * ( TL.id(3) & rationalpJW(4,2)) "
   ]
  },
  {
   "cell_type": "code",
   "execution_count": 11,
   "metadata": {},
   "outputs": [
    {
     "data": {
      "text/plain": [
       "True"
      ]
     },
     "execution_count": 11,
     "metadata": {},
     "output_type": "execute_result"
    }
   ],
   "source": [
    "unshortened == shortened"
   ]
  },
  {
   "cell_type": "markdown",
   "metadata": {},
   "source": [
    "Unfortunately, we cannot really print these as ASCII art string diagrams because they only work for endomorphisms"
   ]
  },
  {
   "cell_type": "markdown",
   "metadata": {},
   "source": [
    "# Example 3.12"
   ]
  },
  {
   "cell_type": "code",
   "execution_count": 12,
   "metadata": {},
   "outputs": [
    {
     "name": "stdout",
     "output_type": "stream",
     "text": [
      "Ancestors of 7:\n",
      "[6, 4]\n"
     ]
    }
   ],
   "source": [
    "v = 7\n",
    "p = 2\n",
    "print(f\"Ancestors of {v}:\")\n",
    "print(ancestors(v,p))"
   ]
  },
  {
   "cell_type": "code",
   "execution_count": 13,
   "metadata": {},
   "outputs": [
    {
     "name": "stdout",
     "output_type": "stream",
     "text": [
      "0\n"
     ]
    }
   ],
   "source": [
    "# Not ancestor centered\n",
    "F = TL.id(1) & TL.nestedCaps(1) & TL.id(3)\n",
    "print(F*rationalpJW(v,p))"
   ]
  },
  {
   "cell_type": "code",
   "execution_count": null,
   "metadata": {},
   "outputs": [],
   "source": []
  }
 ],
 "metadata": {
  "kernelspec": {
   "display_name": "Python 3",
   "language": "python",
   "name": "python3"
  },
  "language_info": {
   "codemirror_mode": {
    "name": "ipython",
    "version": 3
   },
   "file_extension": ".py",
   "mimetype": "text/x-python",
   "name": "python",
   "nbconvert_exporter": "python",
   "pygments_lexer": "ipython3",
   "version": "3.8.5"
  }
 },
 "nbformat": 4,
 "nbformat_minor": 4
}
